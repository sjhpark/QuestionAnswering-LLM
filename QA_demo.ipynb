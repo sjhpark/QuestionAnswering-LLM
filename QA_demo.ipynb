{
 "cells": [
  {
   "cell_type": "code",
   "execution_count": 1,
   "metadata": {},
   "outputs": [],
   "source": [
    "import os\n",
    "from langchain.chains import RetrievalQA\n",
    "from langchain.llms import GooglePalm"
   ]
  },
  {
   "cell_type": "code",
   "execution_count": 2,
   "metadata": {},
   "outputs": [],
   "source": [
    "# read second line in txt\n",
    "api_file = open(\"model_API_keys/palm_api.txt\", \"r\")\n",
    "api_key = api_file.readlines()[1] # read second line\n",
    "api_key = api_key.strip() # remove newline (\\n)"
   ]
  },
  {
   "cell_type": "code",
   "execution_count": 3,
   "metadata": {},
   "outputs": [
    {
     "name": "stderr",
     "output_type": "stream",
     "text": [
      "/home/sam/anaconda3/envs/QA_llm/lib/python3.10/site-packages/tqdm/auto.py:21: TqdmWarning: IProgress not found. Please update jupyter and ipywidgets. See https://ipywidgets.readthedocs.io/en/stable/user_install.html\n",
      "  from .autonotebook import tqdm as notebook_tqdm\n"
     ]
    }
   ],
   "source": [
    "# pre-trained model\n",
    "model = GooglePalm(google_api_key=api_key)"
   ]
  },
  {
   "cell_type": "code",
   "execution_count": 4,
   "metadata": {},
   "outputs": [],
   "source": [
    "def get_answer(model, question:str):\n",
    "    print(f\"Question: {question}\")\n",
    "    try:\n",
    "        answer = model(question)\n",
    "        print(f\"Answer:\\n{answer}\")\n",
    "    except:\n",
    "        print(\"Similarity search failed.\")"
   ]
  },
  {
   "cell_type": "code",
   "execution_count": 5,
   "metadata": {},
   "outputs": [
    {
     "name": "stdout",
     "output_type": "stream",
     "text": [
      "Question: 3rd degree burns on palms, what to do?\n",
      "Similarity search failed.\n",
      "Question: What to do if you are tired?\n",
      "Answer:\n",
      "* **Take a nap.** If you're feeling really tired, take a 15- to 30-minute nap. This can help you feel refreshed and alert.\n",
      "* **Get some fresh air.** Go outside for a walk or sit in a park. The fresh air and sunshine can help to improve your mood and energy levels.\n",
      "* **Drink plenty of water.** Dehydration can lead to fatigue, so make sure you're drinking plenty of fluids throughout the day.\n",
      "* **Eat a healthy diet.** Eating a healthy diet can give you the energy you need to get through the day.\n",
      "* **Get regular exercise.** Exercise can help to improve your overall health and well-being, and it can also help to reduce fatigue.\n",
      "* **Manage stress.** Stress can lead to fatigue, so it's important to find ways to manage stress in your life.\n",
      "* **Get enough sleep.** Most adults need around 7-8 hours of sleep per night. Make sure you're getting enough sleep so that you can wake up feeling refreshed and energized.\n"
     ]
    }
   ],
   "source": [
    "# sample questions\n",
    "sample_Q = \"3rd degree burns on palms, what to do?\"\n",
    "get_answer(model, sample_Q)\n",
    "\n",
    "sample_Q = \"What to do if you are tired?\"\n",
    "get_answer(model, sample_Q)"
   ]
  },
  {
   "cell_type": "code",
   "execution_count": null,
   "metadata": {},
   "outputs": [],
   "source": []
  }
 ],
 "metadata": {
  "kernelspec": {
   "display_name": "QA_llm",
   "language": "python",
   "name": "python3"
  },
  "language_info": {
   "codemirror_mode": {
    "name": "ipython",
    "version": 3
   },
   "file_extension": ".py",
   "mimetype": "text/x-python",
   "name": "python",
   "nbconvert_exporter": "python",
   "pygments_lexer": "ipython3",
   "version": "3.10.13"
  }
 },
 "nbformat": 4,
 "nbformat_minor": 2
}
